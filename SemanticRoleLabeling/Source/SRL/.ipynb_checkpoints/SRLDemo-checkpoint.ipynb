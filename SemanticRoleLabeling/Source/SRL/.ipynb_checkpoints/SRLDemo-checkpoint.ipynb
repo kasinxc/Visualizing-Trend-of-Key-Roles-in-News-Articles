{
 "cells": [
  {
   "cell_type": "code",
   "execution_count": 1,
   "metadata": {
    "scrolled": true
   },
   "outputs": [
    {
     "data": {
      "application/vnd.jupyter.widget-view+json": {
       "model_id": "5e051ebaa544496eb55e594c52dd268f",
       "version_major": 2,
       "version_minor": 0
      },
      "text/plain": [
       "interactive(children=(Textarea(value='', description='Interested Roles:', placeholder='Type here, one per line…"
      ]
     },
     "metadata": {},
     "output_type": "display_data"
    }
   ],
   "source": [
    "%matplotlib notebook\n",
    "# Restart kernel when switching 'matplotlib inline' to 'matplotlib notebook'! See the 187 votes below:\n",
    "# https://stackoverflow.com/questions/19410042/how-to-make-ipython-notebook-matplotlib-plot-inline\n",
    "\n",
    "import matplotlib.pyplot as plt\n",
    "\n",
    "import tree_visualization_SRL as tv\n",
    "\n",
    "from ipywidgets import interact\n",
    "from ipywidgets import interact_manual\n",
    "from ipywidgets import interactive\n",
    "\n",
    "import ipywidgets as widgets\n",
    "\n",
    "style = {'description_width': 'initial'}\n",
    "\n",
    "def build_configurations(interested_roles, label_range, top_verbs, max_file_number, max_length_of_role, enable_coreference_resolution, coref_read_from_correct_file):\n",
    "    configurations = []\n",
    "    \n",
    "    if not interested_roles:\n",
    "        interested_roles = 'Donald Trump'\n",
    "    roles = interested_roles.split('\\n')\n",
    "    configurations.append((\"interested_roles\", roles))\n",
    "    \n",
    "    configurations.append((\"min_count_to_draw\", label_range[0]))\n",
    "    configurations.append((\"max_count_to_draw\", label_range[1]))\n",
    "    configurations.append((\"max_file_number\", max_file_number))\n",
    "    configurations.append((\"top_ranking_verbs\", top_verbs))\n",
    "    \n",
    "    configurations.append((\"max_length_of_role\", max_length_of_role))\n",
    "    if enable_coreference_resolution == True:\n",
    "        configurations.append((\"enable_coreference_resolution\", True))\n",
    "    else:\n",
    "        configurations.append((\"enable_coreference_resolution\", False))\n",
    "    if coref_read_from_correct_file == True:\n",
    "        configurations.append((\"coref_read_from_correct_file\", True))\n",
    "    else:\n",
    "        configurations.append((\"coref_read_from_correct_file\", False))\n",
    "#     print(configurations)\n",
    "    plt.close('all') # otherwise, it will show the picture only in odd times, idk why\n",
    "    tree_graph = tv.main(configurations)\n",
    "    \n",
    "    return tree_graph\n",
    "    \n",
    "    \n",
    "# with out:\n",
    "tmp = interact_manual(build_configurations, \n",
    "interested_roles = widgets.Textarea(\n",
    "    value='',\n",
    "    placeholder='Type here, one per line\\nDefault: Donald Trump',\n",
    "    description='Interested Roles:',\n",
    "    disabled=False,\n",
    "    style=style\n",
    "), \n",
    "\n",
    "label_range = widgets.IntRangeSlider(\n",
    "    value=[2, 200],\n",
    "    min=0,\n",
    "    max=200,\n",
    "    step=1,\n",
    "    description='Label range:',\n",
    "    disabled=False,\n",
    "    continuous_update=False,\n",
    "    orientation='horizontal',\n",
    "    readout=True,\n",
    "    readout_format='d',\n",
    "), \n",
    "top_verbs = widgets.IntText(\n",
    "value = 5,\n",
    "),\n",
    "max_file_number = widgets.IntText(\n",
    "value = 30000, \n",
    "style=style),\n",
    "max_length_of_role = widgets.IntText(\n",
    "value = 50,\n",
    "style=style\n",
    "),\n",
    "enable_coreference_resolution = True,\n",
    "coref_read_from_correct_file = True)\n",
    "\n"
   ]
  },
  {
   "cell_type": "code",
   "execution_count": null,
   "metadata": {},
   "outputs": [],
   "source": []
  }
 ],
 "metadata": {
  "kernelspec": {
   "display_name": "Python 3",
   "language": "python",
   "name": "python3"
  },
  "language_info": {
   "codemirror_mode": {
    "name": "ipython",
    "version": 3
   },
   "file_extension": ".py",
   "mimetype": "text/x-python",
   "name": "python",
   "nbconvert_exporter": "python",
   "pygments_lexer": "ipython3",
   "version": "3.7.2"
  }
 },
 "nbformat": 4,
 "nbformat_minor": 2
}
