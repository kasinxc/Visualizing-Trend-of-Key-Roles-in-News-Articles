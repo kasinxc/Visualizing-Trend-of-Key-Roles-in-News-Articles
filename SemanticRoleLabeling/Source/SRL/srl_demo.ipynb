{
 "cells": [
  {
   "cell_type": "code",
   "execution_count": 1,
   "metadata": {
    "scrolled": true
   },
   "outputs": [
    {
     "data": {
      "application/vnd.jupyter.widget-view+json": {
       "model_id": "6986c734b8ac453aba80e4f541728798",
       "version_major": 2,
       "version_minor": 0
      },
      "text/plain": [
       "interactive(children=(Textarea(value='', description='Interested Roles:', placeholder='Type here, one per line…"
      ]
     },
     "metadata": {},
     "output_type": "display_data"
    }
   ],
   "source": [
    "%matplotlib notebook\n",
    "\n",
    "from ipywidgets import interact\n",
    "from ipywidgets import interact_manual\n",
    "from ipywidgets import interactive\n",
    "\n",
    "\n",
    "import ipywidgets as widgets\n",
    "import matplotlib.pyplot as plt\n",
    "\n",
    "import srl_visualization as sv\n",
    "\n",
    "\n",
    "style = {'description_width': 'initial'}\n",
    "\n",
    "def build_configurations(interested_roles, label_range, top_verbs, \n",
    "    max_file_number, max_length_of_role, enable_coreference_resolution, \n",
    "    coref_read_from_correct_file, enable_inclusive_match, enable_lemmatizer,\n",
    "    enable_word_embedding, word2vec_similarity_threshold, \n",
    "    enable_tfidf, tfidf_diff_threshold):\n",
    "    \n",
    "    configurations = []\n",
    "\n",
    "    if not interested_roles:\n",
    "        interested_roles = 'Donald Trump'\n",
    "    roles = interested_roles.split('\\n')\n",
    "    configurations.append((\"interested_roles\", roles))\n",
    "    \n",
    "    configurations.append((\"min_count_to_draw\", label_range[0]))\n",
    "    configurations.append((\"max_count_to_draw\", label_range[1]))\n",
    "    configurations.append((\"max_file_number\", max_file_number))\n",
    "    configurations.append((\"top_ranking_verbs\", top_verbs))\n",
    "    \n",
    "    configurations.append((\"max_length_of_role\", max_length_of_role))\n",
    " \n",
    "    configurations.append((\"enable_coreference_resolution\", enable_coreference_resolution))\n",
    "    configurations.append((\"coref_read_from_correct_file\", coref_read_from_correct_file))\n",
    "    \n",
    "\n",
    "    configurations.append((\"enable_inclusive_match_on_roles\", enable_inclusive_match))\n",
    "  \n",
    "    configurations.append((\"enable_lemmatizer\", enable_lemmatizer))\n",
    "        \n",
    "    configurations.append((\"enable_word_embedding\", enable_word_embedding))\n",
    "    configurations.append((\"word2vec_similarity_threshold\", word2vec_similarity_threshold)),\n",
    "    \n",
    "\n",
    "    configurations.append((\"enable_tfidf\", enable_tfidf))\n",
    "    configurations.append((\"tfidf_threshold\", tfidf_diff_threshold))\n",
    "\n",
    "    plt.close('all') # otherwise, it will show the picture only in odd times\n",
    "    tree_graph = sv.main(configurations)\n",
    "    \n",
    "    return tree_graph\n",
    "    \n",
    "tmp = interact_manual(build_configurations, \n",
    "interested_roles = widgets.Textarea(\n",
    "    value='',\n",
    "    placeholder='Type here, one per line\\nDefault: Donald Trump',\n",
    "    description='Interested Roles:',\n",
    "    disabled=False,\n",
    "    style=style\n",
    "), \n",
    "\n",
    "label_range = widgets.IntRangeSlider(\n",
    "    value=[2, 200],\n",
    "    min=0,\n",
    "    max=200,\n",
    "    step=1,\n",
    "    description='Label range:',\n",
    "    disabled=False,\n",
    "    continuous_update=False,\n",
    "    orientation='horizontal',\n",
    "    readout=True,\n",
    "    readout_format='d',\n",
    "), \n",
    "top_verbs = widgets.IntText(\n",
    "value = 5,\n",
    "),\n",
    "max_file_number = widgets.IntText(\n",
    "value = 30000, \n",
    "style=style),\n",
    "max_length_of_role = widgets.IntText(\n",
    "value = 50,\n",
    "style=style\n",
    "),\n",
    "enable_coreference_resolution = True,\n",
    "coref_read_from_correct_file = True,\n",
    "enable_inclusive_match = False,\n",
    "enable_lemmatizer = True,\n",
    "enable_word_embedding = False,               \n",
    "word2vec_similarity_threshold = widgets.BoundedFloatText(value=0.85, min=0, step=0.01, description = 'word similarity: '),\n",
    "\n",
    "enable_tfidf = False,\n",
    "tfidf_diff_threshold = widgets.BoundedFloatText(\n",
    "    value = .04, min=0, step=0.01, description = 'tfidf diff: '),\n",
    ")\n",
    "\n"
   ]
  },
  {
   "cell_type": "code",
   "execution_count": null,
   "metadata": {},
   "outputs": [],
   "source": []
  }
 ],
 "metadata": {
  "kernelspec": {
   "display_name": "Python 3",
   "language": "python",
   "name": "python3"
  },
  "language_info": {
   "codemirror_mode": {
    "name": "ipython",
    "version": 3
   },
   "file_extension": ".py",
   "mimetype": "text/x-python",
   "name": "python",
   "nbconvert_exporter": "python",
   "pygments_lexer": "ipython3",
   "version": "3.7.2"
  }
 },
 "nbformat": 4,
 "nbformat_minor": 2
}
