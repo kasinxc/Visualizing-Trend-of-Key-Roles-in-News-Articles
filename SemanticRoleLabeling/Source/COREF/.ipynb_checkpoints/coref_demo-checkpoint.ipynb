{
 "cells": [
  {
   "cell_type": "code",
   "execution_count": 1,
   "metadata": {
    "scrolled": false
   },
   "outputs": [
    {
     "data": {
      "application/vnd.jupyter.widget-view+json": {
       "model_id": "ac818b627e4e4ed4ad875071d8f37433",
       "version_major": 2,
       "version_minor": 0
      },
      "text/plain": [
       "interactive(children=(Checkbox(value=True, description='read_from_correct_files'), Checkbox(value=True, descri…"
      ]
     },
     "metadata": {},
     "output_type": "display_data"
    }
   ],
   "source": [
    "%matplotlib notebook\n",
    "\n",
    "from ipywidgets import interact\n",
    "from ipywidgets import interact_manual\n",
    "from ipywidgets import interactive\n",
    "\n",
    "import ipywidgets as widgets\n",
    "import matplotlib.pyplot as plt\n",
    "\n",
    "import coref_visualization as cv\n",
    "\n",
    "\n",
    "def build_configurations(read_from_correct_files, remove_isolate_nodes, file_count, draw_weight, center_word):\n",
    "    configurations = []\n",
    "    \n",
    "    if read_from_correct_files == True:\n",
    "        configurations.append((\"read_from_correct_files\", True))\n",
    "    else:\n",
    "        configurations.append((\"read_from_correct_files\", False))\n",
    "        \n",
    "    if remove_isolate_nodes == True:\n",
    "        configurations.append((\"remove_isolate_nodes\", True))\n",
    "    else:\n",
    "        configurations.append((\"remove_isolate_nodes\", False))\n",
    "        \n",
    "    configurations.append((\"max_file_number\", file_count))\n",
    "    configurations.append((\"min_weight_to_draw\", draw_weight))\n",
    "    \n",
    "    configurations.append((\"center_word_selection\", center_word))\n",
    "\n",
    "    plt.close('all') # otherwise, it will show the picture only in odd times\n",
    "    cv.main(configurations)\n",
    "\n",
    "    \n",
    "tmp = interact_manual(build_configurations, read_from_correct_files = True, remove_isolate_nodes = True, file_count = widgets.IntSlider(min=0,max=1024,step=1,value=20), draw_weight = widgets.IntSlider(min=0,max=20,step=1,value=1), center_word = ['LongestSpan', 'NameEntity', 'WordNet'])\n",
    "\n"
   ]
  },
  {
   "cell_type": "code",
   "execution_count": null,
   "metadata": {},
   "outputs": [],
   "source": []
  },
  {
   "cell_type": "code",
   "execution_count": null,
   "metadata": {},
   "outputs": [],
   "source": []
  }
 ],
 "metadata": {
  "kernelspec": {
   "display_name": "Python 3",
   "language": "python",
   "name": "python3"
  },
  "language_info": {
   "codemirror_mode": {
    "name": "ipython",
    "version": 3
   },
   "file_extension": ".py",
   "mimetype": "text/x-python",
   "name": "python",
   "nbconvert_exporter": "python",
   "pygments_lexer": "ipython3",
   "version": "3.7.2"
  }
 },
 "nbformat": 4,
 "nbformat_minor": 2
}
