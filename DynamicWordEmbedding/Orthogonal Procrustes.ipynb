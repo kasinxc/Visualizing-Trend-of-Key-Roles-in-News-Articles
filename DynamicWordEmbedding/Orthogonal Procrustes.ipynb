{
 "cells": [
  {
   "cell_type": "markdown",
   "metadata": {},
   "source": [
    "# Alignment Code"
   ]
  },
  {
   "cell_type": "markdown",
   "metadata": {},
   "source": [
    "## Ported and modified from Ryan Heuser's post:\n",
    "https://gist.github.com/quadrismegistus/09a93e219a6ffc4f216fb85235535faf\n"
   ]
  },
  {
   "cell_type": "code",
   "execution_count": 1,
   "metadata": {},
   "outputs": [],
   "source": [
    "def smart_procrustes_align_gensim(base_embed, other_embed, words=None):\n",
    "\t\"\"\"Procrustes align two gensim word2vec models (to allow for comparison between same word across models).\n",
    "\tCode ported from HistWords <https://github.com/williamleif/histwords> by William Hamilton <wleif@stanford.edu>.\n",
    "\t\t(With help from William. Thank you!)\n",
    "\tFirst, intersect the vocabularies (see `intersection_align_gensim` documentation).\n",
    "\tThen do the alignment on the other_embed model.\n",
    "\tReplace the other_embed model's syn0 and syn0norm numpy matrices with the aligned version.\n",
    "\tReturn other_embed.\n",
    "\tIf `words` is set, intersect the two models' vocabulary with the vocabulary in words (see `intersection_align_gensim` documentation).\n",
    "\t\"\"\"\n",
    "\t\n",
    "\t# patch by Richard So [https://twitter.com/richardjeanso) (thanks!) to update this code for new version of gensim\n",
    "\tbase_embed.init_sims()\n",
    "\tother_embed.init_sims()\n",
    "\n",
    "\t# make sure vocabulary and indices are aligned\n",
    "\tin_base_embed, in_other_embed = intersection_align_gensim(base_embed, other_embed, words=words)\n",
    "\n",
    "\t# get the embedding matrices\n",
    "\tbase_vecs = in_base_embed.wv.syn0norm\n",
    "\tother_vecs = in_other_embed.wv.syn0norm\n",
    "\n",
    "\t# just a matrix dot product with numpy\n",
    "\tm = other_vecs.T.dot(base_vecs) \n",
    "\t# SVD method from numpy\n",
    "\tu, _, v = np.linalg.svd(m)\n",
    "\t# another matrix operation\n",
    "\tortho = u.dot(v) \n",
    "\t# Replace original array with modified one\n",
    "\t# i.e. multiplying the embedding matrix (syn0norm)by \"ortho\"\n",
    "\tother_embed.wv.syn0norm = other_embed.wv.syn0 = (other_embed.wv.syn0norm).dot(ortho)\n",
    "\treturn other_embed\n",
    "\t\n",
    "def intersection_align_gensim(m1,m2, words=None):\n",
    "\t\"\"\"\n",
    "\tIntersect two gensim word2vec models, m1 and m2.\n",
    "\tOnly the shared vocabulary between them is kept.\n",
    "\tIf 'words' is set (as list or set), then the vocabulary is intersected with this list as well.\n",
    "\tIndices are re-organized from 0..N in order of descending frequency (=sum of counts from both m1 and m2).\n",
    "\tThese indices correspond to the new syn0 and syn0norm objects in both gensim models:\n",
    "\t\t-- so that Row 0 of m1.syn0 will be for the same word as Row 0 of m2.syn0\n",
    "\t\t-- you can find the index of any word on the .index2word list: model.index2word.index(word) => 2\n",
    "\tThe .vocab dictionary is also updated for each model, preserving the count but updating the index.\n",
    "\t\"\"\"\n",
    "\n",
    "\t# Get the vocab for each model\n",
    "\tvocab_m1 = set(m1.wv.vocab.keys())\n",
    "\tvocab_m2 = set(m2.wv.vocab.keys())\n",
    "\n",
    "\t# Find the common vocabulary\n",
    "\tcommon_vocab = vocab_m1&vocab_m2\n",
    "\tif words: common_vocab&=set(words)\n",
    "\n",
    "\t# If no alignment necessary because vocab is identical...\n",
    "\tif not vocab_m1-common_vocab and not vocab_m2-common_vocab:\n",
    "\t\treturn (m1,m2)\n",
    "\n",
    "\t# Otherwise sort by frequency (summed for both)\n",
    "\tcommon_vocab = list(common_vocab)\n",
    "\tcommon_vocab.sort(key=lambda w: m1.wv.vocab[w].count + m2.wv.vocab[w].count,reverse=True)\n",
    "\n",
    "\t# Then for each model...\n",
    "\tfor m in [m1,m2]:\n",
    "\t\t# Replace old syn0norm array with new one (with common vocab)\n",
    "\t\tindices = [m.wv.vocab[w].index for w in common_vocab]\n",
    "\t\told_arr = m.wv.syn0norm\n",
    "\t\tnew_arr = np.array([old_arr[index] for index in indices])\n",
    "\t\tm.wv.syn0norm = m.wv.syn0 = new_arr\n",
    "\n",
    "\t\t# Replace old vocab dictionary with new one (with common vocab)\n",
    "\t\t# and old index2word with new one\n",
    "\t\tm.wv.index2word = common_vocab\n",
    "\t\told_vocab = m.wv.vocab\n",
    "\t\tnew_vocab = {}\n",
    "\t\tfor new_index,word in enumerate(common_vocab):\n",
    "\t\t\told_vocab_obj=old_vocab[word]\n",
    "\t\t\tnew_vocab[word] = gensim.models.word2vec.Vocab(index=new_index, count=old_vocab_obj.count)\n",
    "\t\tm.wv.vocab = new_vocab\n",
    "\n",
    "\treturn (m1,m2)"
   ]
  },
  {
   "cell_type": "code",
   "execution_count": null,
   "metadata": {},
   "outputs": [],
   "source": []
  }
 ],
 "metadata": {
  "kernelspec": {
   "display_name": "Python 3",
   "language": "python",
   "name": "python3"
  },
  "language_info": {
   "codemirror_mode": {
    "name": "ipython",
    "version": 3
   },
   "file_extension": ".py",
   "mimetype": "text/x-python",
   "name": "python",
   "nbconvert_exporter": "python",
   "pygments_lexer": "ipython3",
   "version": "3.6.5"
  }
 },
 "nbformat": 4,
 "nbformat_minor": 2
}
